{
  "nbformat": 4,
  "nbformat_minor": 0,
  "metadata": {
    "colab": {
      "name": "Copy of Untitled0.ipynb",
      "provenance": [],
      "authorship_tag": "ABX9TyPvPZEUsvW1qnIgLkYX+Aer",
      "include_colab_link": true
    },
    "kernelspec": {
      "name": "python3",
      "display_name": "Python 3"
    }
  },
  "cells": [
    {
      "cell_type": "markdown",
      "metadata": {
        "id": "view-in-github",
        "colab_type": "text"
      },
      "source": [
        "<a href=\"https://colab.research.google.com/github/emmanuelagy/stopwatch/blob/master/Copy_of_Untitled0.ipynb\" target=\"_parent\"><img src=\"https://colab.research.google.com/assets/colab-badge.svg\" alt=\"Open In Colab\"/></a>"
      ]
    },
    {
      "cell_type": "code",
      "metadata": {
        "id": "0m72_oKd65gf",
        "colab_type": "code",
        "colab": {}
      },
      "source": [
        "\n"
      ],
      "execution_count": 0,
      "outputs": []
    },
    {
      "cell_type": "code",
      "metadata": {
        "id": "rRHSco5a8ssc",
        "colab_type": "code",
        "colab": {}
      },
      "source": [
        "# program to predict stock prices using machine learning models\n",
        "#dependency installation\n",
        "\n",
        "import quandl\n",
        "import numpy as np \n"
      ],
      "execution_count": 0,
      "outputs": []
    },
    {
      "cell_type": "code",
      "metadata": {
        "id": "RjzzaM2W97dn",
        "colab_type": "code",
        "colab": {}
      },
      "source": [
        "from sklearn.linear_model import LinearRegression"
      ],
      "execution_count": 0,
      "outputs": []
    },
    {
      "cell_type": "code",
      "metadata": {
        "id": "IxA4ORWG-IJs",
        "colab_type": "code",
        "colab": {}
      },
      "source": [
        "#support vector machine\n",
        "from sklearn.svm import SVR"
      ],
      "execution_count": 0,
      "outputs": []
    },
    {
      "cell_type": "code",
      "metadata": {
        "id": "s_m8O_Up-gIZ",
        "colab_type": "code",
        "colab": {}
      },
      "source": [
        "# used to split and train our method\n",
        "from sklearn.model_selection import train_test_split"
      ],
      "execution_count": 0,
      "outputs": []
    },
    {
      "cell_type": "code",
      "metadata": {
        "id": "YzvOR08B-_QP",
        "colab_type": "code",
        "outputId": "4ce65d12-04fb-43e3-ab5b-faf8384d9787",
        "colab": {
          "base_uri": "https://localhost:8080/",
          "height": 170
        }
      },
      "source": [
        "#retreiving stock data\n",
        "dataframe = quandl.get(\"WIKI/FB\")\n",
        "#result of data from facebook\n",
        "print(dataframe.head())\n",
        "\n",
        "#we will use the adjacted closed column"
      ],
      "execution_count": 0,
      "outputs": [
        {
          "output_type": "stream",
          "text": [
            "             Open   High    Low  ...  Adj. Low  Adj. Close  Adj. Volume\n",
            "Date                             ...                                   \n",
            "2012-05-18  42.05  45.00  38.00  ...     38.00     38.2318  573576400.0\n",
            "2012-05-21  36.53  36.66  33.00  ...     33.00     34.0300  168192700.0\n",
            "2012-05-22  32.61  33.59  30.94  ...     30.94     31.0000  101786600.0\n",
            "2012-05-23  31.37  32.50  31.36  ...     31.36     32.0000   73600000.0\n",
            "2012-05-24  32.95  33.21  31.77  ...     31.77     33.0300   50237200.0\n",
            "\n",
            "[5 rows x 12 columns]\n"
          ],
          "name": "stdout"
        }
      ]
    },
    {
      "cell_type": "code",
      "metadata": {
        "id": "ePVEGUaFBRX7",
        "colab_type": "code",
        "outputId": "afacb913-553b-4855-dfbc-c4b0069612fe",
        "colab": {
          "base_uri": "https://localhost:8080/",
          "height": 136
        }
      },
      "source": [
        "#working with only the adjusted closed price\n",
        "dataframe = dataframe[[\"Adj. Close\"]]#adj.close is our independent variable\n",
        "print(dataframe.head())"
      ],
      "execution_count": 0,
      "outputs": [
        {
          "output_type": "stream",
          "text": [
            "            Adj. Close\n",
            "Date                  \n",
            "2012-05-18     38.2318\n",
            "2012-05-21     34.0300\n",
            "2012-05-22     31.0000\n",
            "2012-05-23     32.0000\n",
            "2012-05-24     33.0300\n"
          ],
          "name": "stdout"
        }
      ]
    },
    {
      "cell_type": "code",
      "metadata": {
        "id": "RhCoTfn3EYxp",
        "colab_type": "code",
        "outputId": "b4431540-3ff4-41c8-8b50-e8c5b08cb342",
        "colab": {
          "base_uri": "https://localhost:8080/",
          "height": 136
        }
      },
      "source": [
        "#predicting into the future variable for a number of days e.g 1\n",
        "forecast_out = 30\n",
        "\n",
        "#we need a target column which is shifted n units up\n",
        "\n",
        "dataframe['Prediction'] = dataframe[['Adj. Close']].shift(-forecast_out) \n",
        "#use - to shift by the number of days\n",
        "print(dataframe.head())\n",
        "\n",
        "\n",
        "# As shown in the table, the prediction for different days shows a \n",
        "#different prediction on the next day we have shifted it to\n"
      ],
      "execution_count": 0,
      "outputs": [
        {
          "output_type": "stream",
          "text": [
            "            Adj. Close  Prediction\n",
            "Date                              \n",
            "2012-05-18     38.2318      30.771\n",
            "2012-05-21     34.0300      31.200\n",
            "2012-05-22     31.0000      31.470\n",
            "2012-05-23     32.0000      31.730\n",
            "2012-05-24     33.0300      32.170\n"
          ],
          "name": "stdout"
        }
      ]
    },
    {
      "cell_type": "code",
      "metadata": {
        "id": "rg38DZjtI4r6",
        "colab_type": "code",
        "outputId": "dbd8b20d-322f-46e1-921c-8adee5ac7988",
        "colab": {
          "base_uri": "https://localhost:8080/",
          "height": 136
        }
      },
      "source": [
        "#end of the data looks like\n",
        "print(dataframe.tail())\n",
        "\n",
        "#it put NaN when it doesnt know what the data is\n",
        "#we can see that dates are truly changed aswell."
      ],
      "execution_count": 0,
      "outputs": [
        {
          "output_type": "stream",
          "text": [
            "            Adj. Close  Prediction\n",
            "Date                              \n",
            "2018-03-21      169.39         NaN\n",
            "2018-03-22      164.89         NaN\n",
            "2018-03-23      159.39         NaN\n",
            "2018-03-26      160.06         NaN\n",
            "2018-03-27      152.19         NaN\n"
          ],
          "name": "stdout"
        }
      ]
    },
    {
      "cell_type": "code",
      "metadata": {
        "id": "ZM39jRxWJWVg",
        "colab_type": "code",
        "outputId": "24edb089-941f-4e90-8158-39d21f64c6fe",
        "colab": {
          "base_uri": "https://localhost:8080/",
          "height": 136
        }
      },
      "source": [
        "#we are going to create the data set (x) which is independent.\n",
        "#we do so by converting the dataframe into a numpy array\n",
        "\n",
        "X = np.array(dataframe.drop(['Prediction'],1))\n",
        "print(X)\n",
        "#we drop the prediction column becuase we need the independent variable which\n",
        "#which is the adj .close\n"
      ],
      "execution_count": 0,
      "outputs": [
        {
          "output_type": "stream",
          "text": [
            "[[ 38.2318]\n",
            " [ 34.03  ]\n",
            " [ 31.    ]\n",
            " ...\n",
            " [159.39  ]\n",
            " [160.06  ]\n",
            " [152.19  ]]\n"
          ],
          "name": "stdout"
        }
      ]
    },
    {
      "cell_type": "code",
      "metadata": {
        "id": "Xw-hDgnfKHXc",
        "colab_type": "code",
        "outputId": "0a670659-f76d-4b49-e280-08e05329e0dd",
        "colab": {
          "base_uri": "https://localhost:8080/",
          "height": 136
        }
      },
      "source": [
        "#we now remove the last n rows\n",
        "X = X[:-forecast_out]\n",
        "print(X)"
      ],
      "execution_count": 0,
      "outputs": [
        {
          "output_type": "stream",
          "text": [
            "[[ 38.2318]\n",
            " [ 34.03  ]\n",
            " [ 31.    ]\n",
            " ...\n",
            " [178.46  ]\n",
            " [178.77  ]\n",
            " [178.07  ]]\n"
          ],
          "name": "stdout"
        }
      ]
    },
    {
      "cell_type": "code",
      "metadata": {
        "id": "nx8vmbKBfnKS",
        "colab_type": "code",
        "outputId": "c6e56a9c-4694-4072-db6f-9b1e74632993",
        "colab": {
          "base_uri": "https://localhost:8080/",
          "height": 34
        }
      },
      "source": [
        "### creating the dependent data set (y)\n",
        "##  We do this by converting the dataframe to a numpy array(this will include all the values NaN)\n",
        "y = np.array(dataframe['Prediction'])\n",
        "# We not need to get all the y values apart from last n rows\n",
        "\n",
        "y = y[:-forecast_out]\n",
        "print(y)\n",
        "#what is happening here in the results below is that\n",
        "## X is a list of List whilst y is simply a list\n"
      ],
      "execution_count": 0,
      "outputs": [
        {
          "output_type": "stream",
          "text": [
            "[ 30.771  31.2    31.47  ... 159.39  160.06  152.19 ]\n"
          ],
          "name": "stdout"
        }
      ]
    },
    {
      "cell_type": "code",
      "metadata": {
        "id": "jCXm-no0kvxe",
        "colab_type": "code",
        "colab": {
          "base_uri": "https://localhost:8080/",
          "height": 163
        },
        "outputId": "17a57378-8eed-4f4f-e45f-ab3ca3fe77da"
      },
      "source": [
        "### now we will split the data into 80% training and 20% testing\n",
        "X_train, X_test, y_train, y_test = train_test_split(X, y, test_size=0.2)"
      ],
      "execution_count": 1,
      "outputs": [
        {
          "output_type": "error",
          "ename": "NameError",
          "evalue": "ignored",
          "traceback": [
            "\u001b[0;31m---------------------------------------------------------------------------\u001b[0m",
            "\u001b[0;31mNameError\u001b[0m                                 Traceback (most recent call last)",
            "\u001b[0;32m<ipython-input-1-19ff03ae32ee>\u001b[0m in \u001b[0;36m<module>\u001b[0;34m()\u001b[0m\n\u001b[0;32m----> 1\u001b[0;31m \u001b[0mX_train\u001b[0m\u001b[0;34m,\u001b[0m \u001b[0mX_test\u001b[0m\u001b[0;34m,\u001b[0m \u001b[0my_train\u001b[0m\u001b[0;34m,\u001b[0m \u001b[0my_test\u001b[0m \u001b[0;34m=\u001b[0m \u001b[0mtrain_test_split\u001b[0m\u001b[0;34m(\u001b[0m\u001b[0mX\u001b[0m\u001b[0;34m,\u001b[0m \u001b[0my\u001b[0m\u001b[0;34m,\u001b[0m \u001b[0mtest_size\u001b[0m\u001b[0;34m=\u001b[0m\u001b[0;36m0.2\u001b[0m\u001b[0;34m)\u001b[0m\u001b[0;34m\u001b[0m\u001b[0;34m\u001b[0m\u001b[0m\n\u001b[0m",
            "\u001b[0;31mNameError\u001b[0m: name 'train_test_split' is not defined"
          ]
        }
      ]
    },
    {
      "cell_type": "code",
      "metadata": {
        "id": "WIUgXJlP1K6k",
        "colab_type": "code",
        "colab": {}
      },
      "source": [
        "#create/ training the support vector machine regressor\n",
        "#we will use the svr function rbs is a curnul which stands for\n",
        "##'radio bases curnul'\n",
        "svr_rbf =SVR(kernel='rbf', C=1e3, gamma=0.1)\n",
        "svr_rbf.fit(X_train, y_train)\n"
      ],
      "execution_count": 0,
      "outputs": []
    },
    {
      "cell_type": "code",
      "metadata": {
        "id": "rru2ra6X2PDC",
        "colab_type": "code",
        "colab": {}
      },
      "source": [
        "#We will now test how good our model is using score\n",
        "#it returns the coefficient of determination R^2 of prediction\n",
        "#the best possible score is 1.0\n",
        "#svm support vector machine\n",
        "svm__confidence =  svr_rbf.score(X_test, y_test)\n",
        "print(\"svm__confidence\", svm__confidence)\n"
      ],
      "execution_count": 0,
      "outputs": []
    },
    {
      "cell_type": "code",
      "metadata": {
        "id": "LZKqXiie2xbE",
        "colab_type": "code",
        "colab": {}
      },
      "source": [
        "#we are going to create a linear regression model\n",
        "#we do so by lr\n",
        "lr = LinearRegression()\n",
        "#we train it by\n",
        "lr.fit(x_train, y_train)\n"
      ],
      "execution_count": 0,
      "outputs": []
    },
    {
      "cell_type": "code",
      "metadata": {
        "id": "Jm59pZFU3GhQ",
        "colab_type": "code",
        "colab": {}
      },
      "source": [
        "lr__confidence =  lr.score(X_test, y_test)\n",
        "print(\"lr__confidence\", lr__confidence)\n"
      ],
      "execution_count": 0,
      "outputs": []
    },
    {
      "cell_type": "code",
      "metadata": {
        "id": "4xumH4cb3Yc4",
        "colab_type": "code",
        "colab": {}
      },
      "source": [
        "#we are going to create the value with want to forecast on\n",
        "x_forecast = np.array(dataframe.drop['Prediction'],1)[-forecast_out:]\n"
      ],
      "execution_count": 0,
      "outputs": []
    }
  ]
}